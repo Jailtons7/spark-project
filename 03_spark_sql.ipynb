{
 "cells": [
  {
   "cell_type": "code",
   "execution_count": 1,
   "id": "561b8874-1464-425e-b952-0cc5d9b6eb68",
   "metadata": {},
   "outputs": [],
   "source": [
    "from pyspark.sql import SparkSession"
   ]
  },
  {
   "cell_type": "code",
   "execution_count": 2,
   "id": "f2fcaae9-4c27-4c4a-ac7a-f575c0c1222c",
   "metadata": {},
   "outputs": [
    {
     "name": "stderr",
     "output_type": "stream",
     "text": [
      "24/05/13 11:43:00 WARN Utils: Your hostname, pc-jailton resolves to a loopback address: 127.0.1.1; using 10.0.1.3 instead (on interface enp3s0)\n",
      "24/05/13 11:43:00 WARN Utils: Set SPARK_LOCAL_IP if you need to bind to another address\n",
      "Setting default log level to \"WARN\".\n",
      "To adjust logging level use sc.setLogLevel(newLevel). For SparkR, use setLogLevel(newLevel).\n",
      "24/05/13 11:43:01 WARN NativeCodeLoader: Unable to load native-hadoop library for your platform... using builtin-java classes where applicable\n",
      "24/05/13 11:43:01 WARN Utils: Service 'SparkUI' could not bind on port 4040. Attempting port 4041.\n"
     ]
    }
   ],
   "source": [
    "spark = SparkSession.builder.appName(\"spark_dataframe_api\").master(\"local[*]\").getOrCreate()"
   ]
  },
  {
   "cell_type": "code",
   "execution_count": 3,
   "id": "bda9be79-bf8c-4a3c-a65e-e1a704c08169",
   "metadata": {},
   "outputs": [],
   "source": [
    "df = (\n",
    "    spark\n",
    "    .read\n",
    "    .option(key=\"delimiter\", value=\";\")\n",
    "    .option(key=\"header\", value=\"true\")\n",
    "    .option(key=\"inferSchema\", value=\"true\")\n",
    "    .option(key=\"encoding\", value=\"ISO-8859-1\")\n",
    "    .csv(\"./data/precos-gasolina-etanol-3.csv\")\n",
    ")"
   ]
  },
  {
   "cell_type": "code",
   "execution_count": 4,
   "id": "1cf2c7bb-ac1c-457b-899e-0f3f427b4db6",
   "metadata": {},
   "outputs": [
    {
     "name": "stdout",
     "output_type": "stream",
     "text": [
      "root\n",
      " |-- Regiao - Sigla: string (nullable = true)\n",
      " |-- Estado - Sigla: string (nullable = true)\n",
      " |-- Municipio: string (nullable = true)\n",
      " |-- Revenda: string (nullable = true)\n",
      " |-- CNPJ da Revenda: string (nullable = true)\n",
      " |-- Nome da Rua: string (nullable = true)\n",
      " |-- Numero Rua: string (nullable = true)\n",
      " |-- Complemento: string (nullable = true)\n",
      " |-- Bairro: string (nullable = true)\n",
      " |-- Cep: string (nullable = true)\n",
      " |-- Produto: string (nullable = true)\n",
      " |-- Data da Coleta: string (nullable = true)\n",
      " |-- Valor de Venda: string (nullable = true)\n",
      " |-- Valor de Compra: string (nullable = true)\n",
      " |-- Unidade de Medida: string (nullable = true)\n",
      " |-- Bandeira: string (nullable = true)\n",
      "\n"
     ]
    }
   ],
   "source": [
    "df.printSchema()"
   ]
  },
  {
   "cell_type": "code",
   "execution_count": 6,
   "id": "f31e1c34-975c-4f5b-ae39-fd6c702555e4",
   "metadata": {},
   "outputs": [],
   "source": [
    "# creating our temporary view\n",
    "df.createOrReplaceTempView(\"combustiveis\")"
   ]
  },
  {
   "cell_type": "code",
   "execution_count": 14,
   "id": "33fffcaf-e184-44c0-b9b4-01616d4857d8",
   "metadata": {},
   "outputs": [
    {
     "name": "stdout",
     "output_type": "stream",
     "text": [
      "+--------------+------------------+---------------+--------------+-----------------+\n",
      "|Estado - Sigla|           Produto|Valor de Compra|Valor de Venda|Unidade de Medida|\n",
      "+--------------+------------------+---------------+--------------+-----------------+\n",
      "|            PB|          GASOLINA|           NULL|          5,59|       R$ / litro|\n",
      "|            PB|GASOLINA ADITIVADA|           NULL|          5,63|       R$ / litro|\n",
      "|            PB|            ETANOL|           NULL|          3,99|       R$ / litro|\n",
      "|            PB|          GASOLINA|           NULL|          5,59|       R$ / litro|\n",
      "|            PB|GASOLINA ADITIVADA|           NULL|          5,79|       R$ / litro|\n",
      "|            PB|            ETANOL|           NULL|          3,89|       R$ / litro|\n",
      "|            PB|GASOLINA ADITIVADA|           NULL|          5,59|       R$ / litro|\n",
      "|            PB|          GASOLINA|           NULL|          5,49|       R$ / litro|\n",
      "|            PB|GASOLINA ADITIVADA|           NULL|          5,65|       R$ / litro|\n",
      "|            PB|            ETANOL|           NULL|          4,09|       R$ / litro|\n",
      "|            PR|          GASOLINA|           NULL|          6,15|       R$ / litro|\n",
      "|            PR|GASOLINA ADITIVADA|           NULL|          6,25|       R$ / litro|\n",
      "|            PR|            ETANOL|           NULL|          3,89|       R$ / litro|\n",
      "|            PR|          GASOLINA|           NULL|          5,69|       R$ / litro|\n",
      "|            PR|            ETANOL|           NULL|          3,42|       R$ / litro|\n",
      "|            PR|GASOLINA ADITIVADA|           NULL|          5,43|       R$ / litro|\n",
      "|            PR|            ETANOL|           NULL|          3,49|       R$ / litro|\n",
      "|            PR|          GASOLINA|           NULL|          5,59|       R$ / litro|\n",
      "|            PR|            ETANOL|           NULL|          3,43|       R$ / litro|\n",
      "|            SC|          GASOLINA|           NULL|          5,86|       R$ / litro|\n",
      "+--------------+------------------+---------------+--------------+-----------------+\n",
      "only showing top 20 rows\n",
      "\n"
     ]
    }
   ],
   "source": [
    "spark.sql(\"\"\"\n",
    "    select `Estado - Sigla`, `Produto`, `Valor de Compra`, `Valor de Venda`, `Unidade de Medida` from combustiveis;\n",
    "\"\"\").show()"
   ]
  },
  {
   "cell_type": "code",
   "execution_count": 15,
   "id": "76c76169-f54e-4fae-ab9b-6d491ed821b8",
   "metadata": {},
   "outputs": [
    {
     "name": "stdout",
     "output_type": "stream",
     "text": [
      "+--------------+--------------+---------+-------+---------------+-----------+----------+-----------+------+---+-------+--------------+--------------+---------------+-----------------+--------+\n",
      "|Regiao - Sigla|Estado - Sigla|Municipio|Revenda|CNPJ da Revenda|Nome da Rua|Numero Rua|Complemento|Bairro|Cep|Produto|Data da Coleta|Valor de Venda|Valor de Compra|Unidade de Medida|Bandeira|\n",
      "+--------------+--------------+---------+-------+---------------+-----------+----------+-----------+------+---+-------+--------------+--------------+---------------+-----------------+--------+\n",
      "+--------------+--------------+---------+-------+---------------+-----------+----------+-----------+------+---+-------+--------------+--------------+---------------+-----------------+--------+\n",
      "\n"
     ]
    }
   ],
   "source": [
    "spark.sql(\"\"\"\n",
    "    select * from combustiveis where `Valor de Compra` is not null;\n",
    "\"\"\").show()"
   ]
  },
  {
   "cell_type": "code",
   "execution_count": 17,
   "id": "eb207113-a739-46ee-bfcd-80de10a0623e",
   "metadata": {},
   "outputs": [],
   "source": [
    "view_prices = spark.sql(\"\"\"\n",
    "    select\n",
    "        `Estado - Sigla`,\n",
    "        `Produto`,\n",
    "        regexp_replace(`Valor de Venda`, \",\", \".\") as `Valor de Venda`,\n",
    "        `Unidade de Medida`\n",
    "    from combustiveis;\n",
    "\"\"\")"
   ]
  },
  {
   "cell_type": "code",
   "execution_count": 19,
   "id": "8b5113b0-c96b-4058-8203-33e70e75b4dd",
   "metadata": {},
   "outputs": [
    {
     "name": "stdout",
     "output_type": "stream",
     "text": [
      "+--------------+------------------+--------------+-----------------+\n",
      "|Estado - Sigla|           Produto|Valor de Venda|Unidade de Medida|\n",
      "+--------------+------------------+--------------+-----------------+\n",
      "|            PB|          GASOLINA|          5.59|       R$ / litro|\n",
      "|            PB|GASOLINA ADITIVADA|          5.63|       R$ / litro|\n",
      "|            PB|            ETANOL|          3.99|       R$ / litro|\n",
      "|            PB|          GASOLINA|          5.59|       R$ / litro|\n",
      "|            PB|GASOLINA ADITIVADA|          5.79|       R$ / litro|\n",
      "|            PB|            ETANOL|          3.89|       R$ / litro|\n",
      "|            PB|GASOLINA ADITIVADA|          5.59|       R$ / litro|\n",
      "|            PB|          GASOLINA|          5.49|       R$ / litro|\n",
      "|            PB|GASOLINA ADITIVADA|          5.65|       R$ / litro|\n",
      "|            PB|            ETANOL|          4.09|       R$ / litro|\n",
      "|            PR|          GASOLINA|          6.15|       R$ / litro|\n",
      "|            PR|GASOLINA ADITIVADA|          6.25|       R$ / litro|\n",
      "|            PR|            ETANOL|          3.89|       R$ / litro|\n",
      "|            PR|          GASOLINA|          5.69|       R$ / litro|\n",
      "|            PR|            ETANOL|          3.42|       R$ / litro|\n",
      "|            PR|GASOLINA ADITIVADA|          5.43|       R$ / litro|\n",
      "|            PR|            ETANOL|          3.49|       R$ / litro|\n",
      "|            PR|          GASOLINA|          5.59|       R$ / litro|\n",
      "|            PR|            ETANOL|          3.43|       R$ / litro|\n",
      "|            SC|          GASOLINA|          5.86|       R$ / litro|\n",
      "+--------------+------------------+--------------+-----------------+\n",
      "only showing top 20 rows\n",
      "\n"
     ]
    }
   ],
   "source": [
    "view_prices.createOrReplaceTempView(\"view_prices\")\n",
    "view_prices.show()"
   ]
  },
  {
   "cell_type": "code",
   "execution_count": 24,
   "id": "c10f45c6-1736-4c76-bcb2-b33b51b2d6ab",
   "metadata": {},
   "outputs": [],
   "source": [
    "view_prices_difference = spark.sql(\"\"\"\n",
    "    select\n",
    "        `Estado - Sigla`,\n",
    "        `Produto`,\n",
    "        `Unidade de Medida`,\n",
    "        MAX(`Valor de Venda`) as max_value,\n",
    "        MIN(`Valor de Venda`) as min_value,\n",
    "        MAX(`Valor de Venda`) - MIN(`Valor de Venda`) as difference\n",
    "    from view_prices\n",
    "    group by all\n",
    "    order by difference DESC;\n",
    "\"\"\")"
   ]
  },
  {
   "cell_type": "code",
   "execution_count": 26,
   "id": "6c36ec91-756b-40f8-af2b-35a2fe0b9d50",
   "metadata": {},
   "outputs": [
    {
     "name": "stdout",
     "output_type": "stream",
     "text": [
      "+--------------+------------------+-----------------+---------+---------+------------------+\n",
      "|Estado - Sigla|           Produto|Unidade de Medida|max_value|min_value|        difference|\n",
      "+--------------+------------------+-----------------+---------+---------+------------------+\n",
      "|            SP|          GASOLINA|       R$ / litro|     7.97|     4.59|              3.38|\n",
      "|            SP|GASOLINA ADITIVADA|       R$ / litro|     7.99|     4.79|               3.2|\n",
      "|            SP|            ETANOL|       R$ / litro|     5.69|     2.69|3.0000000000000004|\n",
      "|            RJ|          GASOLINA|       R$ / litro|     7.49|     4.99|               2.5|\n",
      "|            PA|            ETANOL|       R$ / litro|      5.9|     3.45|              2.45|\n",
      "+--------------+------------------+-----------------+---------+---------+------------------+\n",
      "only showing top 5 rows\n",
      "\n"
     ]
    }
   ],
   "source": [
    "view_prices_difference.show(5)"
   ]
  }
 ],
 "metadata": {
  "kernelspec": {
   "display_name": "Python 3 (ipykernel)",
   "language": "python",
   "name": "python3"
  },
  "language_info": {
   "codemirror_mode": {
    "name": "ipython",
    "version": 3
   },
   "file_extension": ".py",
   "mimetype": "text/x-python",
   "name": "python",
   "nbconvert_exporter": "python",
   "pygments_lexer": "ipython3",
   "version": "3.10.6"
  }
 },
 "nbformat": 4,
 "nbformat_minor": 5
}
