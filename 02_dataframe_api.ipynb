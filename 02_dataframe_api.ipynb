{
 "cells": [
  {
   "cell_type": "code",
   "execution_count": 2,
   "id": "561b8874-1464-425e-b952-0cc5d9b6eb68",
   "metadata": {},
   "outputs": [],
   "source": [
    "from pyspark.sql import functions as F\n",
    "from pyspark.sql import SparkSession"
   ]
  },
  {
   "cell_type": "code",
   "execution_count": null,
   "id": "f2fcaae9-4c27-4c4a-ac7a-f575c0c1222c",
   "metadata": {},
   "outputs": [],
   "source": [
    "spark = SparkSession.builder.appName(\"spark_dataframe_api\").master(\"local[*]\").getOrCreate()"
   ]
  },
  {
   "cell_type": "code",
   "execution_count": 6,
   "id": "bda9be79-bf8c-4a3c-a65e-e1a704c08169",
   "metadata": {},
   "outputs": [],
   "source": [
    "df = (\n",
    "    spark\n",
    "    .read\n",
    "    .option(key=\"delimiter\", value=\";\")\n",
    "    .option(key=\"header\", value=\"true\")\n",
    "    .option(key=\"inferSchema\", value=\"true\")\n",
    "    .option(key=\"encoding\", value=\"ISO-8859-1\")\n",
    "    .csv(\"./data/precos-gasolina-etanol-3.csv\")\n",
    ")"
   ]
  },
  {
   "cell_type": "code",
   "execution_count": 8,
   "id": "1cf2c7bb-ac1c-457b-899e-0f3f427b4db6",
   "metadata": {},
   "outputs": [
    {
     "name": "stdout",
     "output_type": "stream",
     "text": [
      "root\n",
      " |-- Regiao - Sigla: string (nullable = true)\n",
      " |-- Estado - Sigla: string (nullable = true)\n",
      " |-- Municipio: string (nullable = true)\n",
      " |-- Revenda: string (nullable = true)\n",
      " |-- CNPJ da Revenda: string (nullable = true)\n",
      " |-- Nome da Rua: string (nullable = true)\n",
      " |-- Numero Rua: string (nullable = true)\n",
      " |-- Complemento: string (nullable = true)\n",
      " |-- Bairro: string (nullable = true)\n",
      " |-- Cep: string (nullable = true)\n",
      " |-- Produto: string (nullable = true)\n",
      " |-- Data da Coleta: string (nullable = true)\n",
      " |-- Valor de Venda: string (nullable = true)\n",
      " |-- Valor de Compra: string (nullable = true)\n",
      " |-- Unidade de Medida: string (nullable = true)\n",
      " |-- Bandeira: string (nullable = true)\n",
      "\n"
     ]
    }
   ],
   "source": [
    "df.printSchema()"
   ]
  },
  {
   "cell_type": "code",
   "execution_count": 13,
   "id": "6f667f7e-804c-4480-ba33-ac790f567074",
   "metadata": {},
   "outputs": [],
   "source": [
    "df_precos = df.select(\n",
    "    'Estado - Sigla',\n",
    "    'Produto',\n",
    "    'Valor de Compra',\n",
    "    'Valor de Venda',\n",
    "    'Unidade de Medida'\n",
    ")"
   ]
  },
  {
   "cell_type": "code",
   "execution_count": 14,
   "id": "b1f8079c-1557-4800-9484-7f59d8b78623",
   "metadata": {},
   "outputs": [
    {
     "name": "stdout",
     "output_type": "stream",
     "text": [
      "+--------------+------------------+---------------+--------------+-----------------+\n",
      "|Estado - Sigla|           Produto|Valor de Compra|Valor de Venda|Unidade de Medida|\n",
      "+--------------+------------------+---------------+--------------+-----------------+\n",
      "|            PB|          GASOLINA|           NULL|          5,59|       R$ / litro|\n",
      "|            PB|GASOLINA ADITIVADA|           NULL|          5,63|       R$ / litro|\n",
      "|            PB|            ETANOL|           NULL|          3,99|       R$ / litro|\n",
      "|            PB|          GASOLINA|           NULL|          5,59|       R$ / litro|\n",
      "|            PB|GASOLINA ADITIVADA|           NULL|          5,79|       R$ / litro|\n",
      "+--------------+------------------+---------------+--------------+-----------------+\n",
      "only showing top 5 rows\n",
      "\n"
     ]
    }
   ],
   "source": [
    "df_precos.show(5)"
   ]
  },
  {
   "cell_type": "code",
   "execution_count": 15,
   "id": "bad10f7e-aef4-4593-84f0-a470dfec2178",
   "metadata": {},
   "outputs": [
    {
     "name": "stdout",
     "output_type": "stream",
     "text": [
      "+--------------+-------+---------------+--------------+-----------------+\n",
      "|Estado - Sigla|Produto|Valor de Compra|Valor de Venda|Unidade de Medida|\n",
      "+--------------+-------+---------------+--------------+-----------------+\n",
      "+--------------+-------+---------------+--------------+-----------------+\n",
      "\n"
     ]
    }
   ],
   "source": [
    "# verifying if field \"Valor de Compra\" is always null\n",
    "df_precos.where(\n",
    "    F.col('Valor de Compra').isNotNull()\n",
    ").show(5)"
   ]
  },
  {
   "cell_type": "code",
   "execution_count": 23,
   "id": "56956782-aa31-44b2-8e2b-d8b2632655a7",
   "metadata": {},
   "outputs": [],
   "source": [
    "# removing \"Valor de Compra\" since it is always null and casting \"Valor de Compra\"\n",
    "df_precos = df.select(\n",
    "    'Estado - Sigla',\n",
    "    'Produto',\n",
    "    'Valor de Venda',\n",
    "    'Unidade de Medida'\n",
    ").withColumn(\n",
    "    \"Valor de Venda\",\n",
    "    F.regexp_replace(string=\"Valor de Venda\", pattern=\",\", replacement=\".\").cast(\"float\")\n",
    ")"
   ]
  },
  {
   "cell_type": "code",
   "execution_count": 30,
   "id": "c06d6755-6d17-416d-ade3-e23245616ed5",
   "metadata": {},
   "outputs": [],
   "source": [
    "df_precos_analise = df_precos.groupBy(\n",
    "    F.col('Estado - Sigla'),\n",
    "    F.col('Produto'),\n",
    "    F.col('Unidade de Medida')\n",
    ").agg(\n",
    "    F.min(F.col('Valor de Venda')).alias(\"menor_valor\"),\n",
    "    F.max(F.col('Valor de Venda')).alias(\"maior_valor\")\n",
    ").withColumn(\n",
    "    \"diferenca\",\n",
    "    F.col(\"maior_valor\") - F.col(\"menor_valor\")\n",
    ").orderBy(\"diferenca\", ascending=False)"
   ]
  },
  {
   "cell_type": "code",
   "execution_count": null,
   "id": "f31e1c34-975c-4f5b-ae39-fd6c702555e4",
   "metadata": {},
   "outputs": [],
   "source": []
  }
 ],
 "metadata": {
  "kernelspec": {
   "display_name": "Python 3 (ipykernel)",
   "language": "python",
   "name": "python3"
  },
  "language_info": {
   "codemirror_mode": {
    "name": "ipython",
    "version": 3
   },
   "file_extension": ".py",
   "mimetype": "text/x-python",
   "name": "python",
   "nbconvert_exporter": "python",
   "pygments_lexer": "ipython3",
   "version": "3.10.6"
  }
 },
 "nbformat": 4,
 "nbformat_minor": 5
}
