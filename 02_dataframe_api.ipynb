{
 "cells": [
  {
   "cell_type": "code",
   "execution_count": 2,
   "id": "561b8874-1464-425e-b952-0cc5d9b6eb68",
   "metadata": {},
   "outputs": [],
   "source": [
    "from pyspark.sql import SparkSession\n",
    "from pyspark.sql import functions as F"
   ]
  },
  {
   "cell_type": "code",
   "execution_count": null,
   "id": "f2fcaae9-4c27-4c4a-ac7a-f575c0c1222c",
   "metadata": {},
   "outputs": [],
   "source": [
    "spark = SparkSession.builder.appName(\"spark_sql_api\").master(\"local[*]\").getOrCreate()"
   ]
  },
  {
   "cell_type": "code",
   "execution_count": 4,
   "id": "bda9be79-bf8c-4a3c-a65e-e1a704c08169",
   "metadata": {},
   "outputs": [],
   "source": [
    "df = (\n",
    "    spark\n",
    "    .read\n",
    "    .option(key=\"delimiter\", value=\";\")\n",
    "    .option(key=\"header\", value=\"true\")\n",
    "    .option(key=\"inferSchema\", value=\"true\")\n",
    "    .option(key=\"encoding\", value=\"ISO-8859-1\")\n",
    "    .csv(\"./data/precos-gasolina-etanol-3.csv\")\n",
    ")"
   ]
  },
  {
   "cell_type": "code",
   "execution_count": 5,
   "id": "1cf2c7bb-ac1c-457b-899e-0f3f427b4db6",
   "metadata": {},
   "outputs": [
    {
     "name": "stdout",
     "output_type": "stream",
     "text": [
      "root\n",
      " |-- Regiao - Sigla: string (nullable = true)\n",
      " |-- Estado - Sigla: string (nullable = true)\n",
      " |-- Municipio: string (nullable = true)\n",
      " |-- Revenda: string (nullable = true)\n",
      " |-- CNPJ da Revenda: string (nullable = true)\n",
      " |-- Nome da Rua: string (nullable = true)\n",
      " |-- Numero Rua: string (nullable = true)\n",
      " |-- Complemento: string (nullable = true)\n",
      " |-- Bairro: string (nullable = true)\n",
      " |-- Cep: string (nullable = true)\n",
      " |-- Produto: string (nullable = true)\n",
      " |-- Data da Coleta: string (nullable = true)\n",
      " |-- Valor de Venda: string (nullable = true)\n",
      " |-- Valor de Compra: string (nullable = true)\n",
      " |-- Unidade de Medida: string (nullable = true)\n",
      " |-- Bandeira: string (nullable = true)\n",
      "\n"
     ]
    }
   ],
   "source": [
    "df.printSchema()"
   ]
  },
  {
   "cell_type": "code",
   "execution_count": 6,
   "id": "f31e1c34-975c-4f5b-ae39-fd6c702555e4",
   "metadata": {},
   "outputs": [],
   "source": [
    "df_precos = df.select(\n",
    "    'Estado - Sigla',\n",
    "    'Produto',\n",
    "    'Valor de Compra',\n",
    "    'Valor de Venda',\n",
    "    'Unidade de Medida'\n",
    ")"
   ]
  },
  {
   "cell_type": "code",
   "execution_count": 7,
   "id": "a44439be-23d9-4feb-8721-0b2779457678",
   "metadata": {},
   "outputs": [
    {
     "name": "stdout",
     "output_type": "stream",
     "text": [
      "+--------------+------------------+---------------+--------------+-----------------+\n",
      "|Estado - Sigla|           Produto|Valor de Compra|Valor de Venda|Unidade de Medida|\n",
      "+--------------+------------------+---------------+--------------+-----------------+\n",
      "|            PB|          GASOLINA|           NULL|          5,59|       R$ / litro|\n",
      "|            PB|GASOLINA ADITIVADA|           NULL|          5,63|       R$ / litro|\n",
      "|            PB|            ETANOL|           NULL|          3,99|       R$ / litro|\n",
      "|            PB|          GASOLINA|           NULL|          5,59|       R$ / litro|\n",
      "|            PB|GASOLINA ADITIVADA|           NULL|          5,79|       R$ / litro|\n",
      "+--------------+------------------+---------------+--------------+-----------------+\n",
      "only showing top 5 rows\n",
      "\n"
     ]
    }
   ],
   "source": [
    "df_precos.show(5)"
   ]
  },
  {
   "cell_type": "code",
   "execution_count": 8,
   "id": "9f7a764d-8480-4d89-922e-fe854e7109d8",
   "metadata": {},
   "outputs": [
    {
     "name": "stdout",
     "output_type": "stream",
     "text": [
      "+--------------+-------+---------------+--------------+-----------------+\n",
      "|Estado - Sigla|Produto|Valor de Compra|Valor de Venda|Unidade de Medida|\n",
      "+--------------+-------+---------------+--------------+-----------------+\n",
      "+--------------+-------+---------------+--------------+-----------------+\n",
      "\n"
     ]
    }
   ],
   "source": [
    "# verifying if field \"Valor de Compra\" is always null\n",
    "df_precos.where(\n",
    "    F.col('Valor de Compra').isNotNull()\n",
    ").show(5)"
   ]
  },
  {
   "cell_type": "code",
   "execution_count": 9,
   "id": "a0e5760e-1222-45f1-94a7-972f013a2fbf",
   "metadata": {},
   "outputs": [],
   "source": [
    "# removing \"Valor de Compra\" since it is always null and casting \"Valor de Compra\"\n",
    "df_precos = df.select(\n",
    "    'Estado - Sigla',\n",
    "    'Produto',\n",
    "    'Valor de Venda',\n",
    "    'Unidade de Medida'\n",
    ").withColumn(\n",
    "    \"Valor de Venda\",\n",
    "    F.regexp_replace(string=\"Valor de Venda\", pattern=\",\", replacement=\".\").cast(\"float\")\n",
    ")"
   ]
  },
  {
   "cell_type": "code",
   "execution_count": 10,
   "id": "76df1442-30ae-4723-bc68-6fb2566855e8",
   "metadata": {},
   "outputs": [],
   "source": [
    "df_precos_analise = df_precos.groupBy(\n",
    "    F.col('Estado - Sigla'),\n",
    "    F.col('Produto'),\n",
    "    F.col('Unidade de Medida')\n",
    ").agg(\n",
    "    F.min(F.col('Valor de Venda')).alias(\"menor_valor\"),\n",
    "    F.max(F.col('Valor de Venda')).alias(\"maior_valor\")\n",
    ").withColumn(\n",
    "    \"diferenca\",\n",
    "    F.col(\"maior_valor\") - F.col(\"menor_valor\")\n",
    ").orderBy(\"diferenca\", ascending=False)"
   ]
  },
  {
   "cell_type": "code",
   "execution_count": 19,
   "id": "358c659f-9a22-40be-98ed-972bc4942fea",
   "metadata": {},
   "outputs": [
    {
     "name": "stdout",
     "output_type": "stream",
     "text": [
      "+--------------+--------+-----------------+-----------+-----------+----------+\n",
      "|Estado - Sigla| Produto|Unidade de Medida|menor_valor|maior_valor| diferenca|\n",
      "+--------------+--------+-----------------+-----------+-----------+----------+\n",
      "|            SP|GASOLINA|       R$ / litro|       4.59|       7.97| 3.3799996|\n",
      "|            RJ|GASOLINA|       R$ / litro|       4.99|       7.49|       2.5|\n",
      "|            AM|GASOLINA|       R$ / litro|       5.29|        7.7| 2.4099998|\n",
      "|            RS|GASOLINA|       R$ / litro|       5.09|       6.96| 1.8699999|\n",
      "|            PA|GASOLINA|       R$ / litro|       5.22|       6.99|      1.77|\n",
      "|            BA|GASOLINA|       R$ / litro|       5.19|       6.91| 1.7199998|\n",
      "|            PR|GASOLINA|       R$ / litro|       5.14|       6.79| 1.6500001|\n",
      "|            PE|GASOLINA|       R$ / litro|       5.24|       6.89| 1.6500001|\n",
      "|            MS|GASOLINA|       R$ / litro|       5.25|       6.84| 1.5900002|\n",
      "|            ES|GASOLINA|       R$ / litro|       5.19|       6.66| 1.4699998|\n",
      "|            MA|GASOLINA|       R$ / litro|       5.03|        6.5| 1.4699998|\n",
      "|            RO|GASOLINA|       R$ / litro|       5.68|       7.09| 1.4100003|\n",
      "|            GO|GASOLINA|       R$ / litro|       4.99|       6.27| 1.2800002|\n",
      "|            MG|GASOLINA|       R$ / litro|       5.08|       6.36| 1.2800002|\n",
      "|            SC|GASOLINA|       R$ / litro|       5.19|       6.46|      1.27|\n",
      "|            MT|GASOLINA|       R$ / litro|       5.39|       6.64|      1.25|\n",
      "|            AL|GASOLINA|       R$ / litro|       5.44|       6.69|      1.25|\n",
      "|            CE|GASOLINA|       R$ / litro|       5.15|       6.39| 1.2399998|\n",
      "|            AC|GASOLINA|       R$ / litro|       6.69|       7.63|0.94000006|\n",
      "|            PI|GASOLINA|       R$ / litro|       5.14|       5.99| 0.8499999|\n",
      "+--------------+--------+-----------------+-----------+-----------+----------+\n",
      "only showing top 20 rows\n",
      "\n"
     ]
    }
   ],
   "source": [
    "# showing the states with the biggest price differences where fuel is gasoline (\"GASOLINA\")\n",
    "df_precos_analise.where(df_precos_analise.Produto == \"GASOLINA\").show()"
   ]
  },
  {
   "cell_type": "code",
   "execution_count": 20,
   "id": "de78bbd3-ca80-45d3-95a5-eca3c32b7d8b",
   "metadata": {},
   "outputs": [
    {
     "name": "stdout",
     "output_type": "stream",
     "text": [
      "+--------------+-------+-----------------+-----------+-----------+----------+\n",
      "|Estado - Sigla|Produto|Unidade de Medida|menor_valor|maior_valor| diferenca|\n",
      "+--------------+-------+-----------------+-----------+-----------+----------+\n",
      "|            SP| ETANOL|       R$ / litro|       2.69|       5.69|       3.0|\n",
      "|            PA| ETANOL|       R$ / litro|       3.45|        5.9|      2.45|\n",
      "|            RS| ETANOL|       R$ / litro|       3.65|       5.99| 2.3399997|\n",
      "|            PE| ETANOL|       R$ / litro|       3.39|       5.59|       2.2|\n",
      "|            CE| ETANOL|       R$ / litro|       3.94|       5.95| 2.0099998|\n",
      "|            AL| ETANOL|       R$ / litro|       3.19|       5.12| 1.9299998|\n",
      "|            RJ| ETANOL|       R$ / litro|       3.45|       5.37| 1.9199998|\n",
      "|            SC| ETANOL|       R$ / litro|       3.69|       5.59| 1.9000001|\n",
      "|            ES| ETANOL|       R$ / litro|       3.59|       5.29|       1.7|\n",
      "|            RN| ETANOL|       R$ / litro|       3.89|       5.39| 1.4999998|\n",
      "|            MG| ETANOL|       R$ / litro|       2.99|       4.49| 1.4999998|\n",
      "|            MS| ETANOL|       R$ / litro|       3.13|       4.58| 1.4499998|\n",
      "|            BA| ETANOL|       R$ / litro|       3.57|       4.99| 1.4199998|\n",
      "|            GO| ETANOL|       R$ / litro|       2.89|       4.27| 1.3799999|\n",
      "|            AC| ETANOL|       R$ / litro|       4.49|        5.8| 1.3100004|\n",
      "|            PR| ETANOL|       R$ / litro|       3.15|       4.41| 1.2599998|\n",
      "|            MA| ETANOL|       R$ / litro|       3.75|       4.99| 1.2399998|\n",
      "|            MT| ETANOL|       R$ / litro|       2.69|       3.69|       1.0|\n",
      "|            TO| ETANOL|       R$ / litro|        3.7|        4.7|0.99999976|\n",
      "|            RO| ETANOL|       R$ / litro|       4.41|       5.39|      0.98|\n",
      "+--------------+-------+-----------------+-----------+-----------+----------+\n",
      "only showing top 20 rows\n",
      "\n"
     ]
    }
   ],
   "source": [
    "# Showing the states with the biggest price differences where fuel is ethanol (\"ETANOL\")\n",
    "df_precos_analise.where(df_precos_analise.Produto == \"ETANOL\").show()"
   ]
  }
 ],
 "metadata": {
  "kernelspec": {
   "display_name": "Python 3 (ipykernel)",
   "language": "python",
   "name": "python3"
  },
  "language_info": {
   "codemirror_mode": {
    "name": "ipython",
    "version": 3
   },
   "file_extension": ".py",
   "mimetype": "text/x-python",
   "name": "python",
   "nbconvert_exporter": "python",
   "pygments_lexer": "ipython3",
   "version": "3.10.6"
  }
 },
 "nbformat": 4,
 "nbformat_minor": 5
}
