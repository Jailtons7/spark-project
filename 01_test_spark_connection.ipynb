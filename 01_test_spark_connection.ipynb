{
 "cells": [
  {
   "cell_type": "code",
   "execution_count": 1,
   "id": "92d74d26-7347-4bed-bc17-6c77ee4539a4",
   "metadata": {},
   "outputs": [],
   "source": [
    "from pyspark.sql.types import StructField, StructType, StringType, IntegerType\n",
    "from pyspark.sql import SparkSession"
   ]
  },
  {
   "cell_type": "code",
   "execution_count": 2,
   "id": "83ef1f34-759a-42b9-9601-46cffe02da4a",
   "metadata": {},
   "outputs": [],
   "source": [
    "def run():\n",
    "    spark = SparkSession.builder.appName(\"teste\").master(\"local[*]\").getOrCreate()\n",
    "    data = [\n",
    "        (\"Jose\", \"Henriquez\", \"36678\", \"M\", 5000),\n",
    "        (\"Antunes\", \"Lopez\", \"46875\", \"M\", 7200),\n",
    "        (\"Clara\", \"Fagundez\", \"89947\", \"F\", 12000),\n",
    "        (\"Beatriz\", \"Muniz\", \"42586\", \"F\", 3000),\n",
    "    ]\n",
    "    schema = StructType([\n",
    "        StructField(\"first_name\", StringType(), True),\n",
    "        StructField(\"last_name\", StringType(), True),\n",
    "        StructField(\"id\", StringType(), True),\n",
    "        StructField(\"gender\", StringType(), True),\n",
    "        StructField(\"salary\", IntegerType(), True),\n",
    "    ])\n",
    "    df = spark.createDataFrame(data=data, schema=schema)\n",
    "    df.show(truncate=False)"
   ]
  },
  {
   "cell_type": "code",
   "execution_count": 3,
   "id": "9db9774f-8af4-44cf-91cf-012da7942444",
   "metadata": {},
   "outputs": [
    {
     "name": "stderr",
     "output_type": "stream",
     "text": [
      "24/04/22 23:01:55 WARN Utils: Your hostname, pc-jailton resolves to a loopback address: 127.0.1.1; using 10.0.1.3 instead (on interface enp3s0)\n",
      "24/04/22 23:01:55 WARN Utils: Set SPARK_LOCAL_IP if you need to bind to another address\n",
      "Setting default log level to \"WARN\".\n",
      "To adjust logging level use sc.setLogLevel(newLevel). For SparkR, use setLogLevel(newLevel).\n",
      "24/04/22 23:01:55 WARN NativeCodeLoader: Unable to load native-hadoop library for your platform... using builtin-java classes where applicable\n",
      "24/04/22 23:01:56 WARN Utils: Service 'SparkUI' could not bind on port 4040. Attempting port 4041.\n",
      "                                                                                \r"
     ]
    },
    {
     "name": "stdout",
     "output_type": "stream",
     "text": [
      "+----------+---------+-----+------+------+\n",
      "|first_name|last_name|id   |gender|salary|\n",
      "+----------+---------+-----+------+------+\n",
      "|Jose      |Henriquez|36678|M     |5000  |\n",
      "|Antunes   |Lopez    |46875|M     |7200  |\n",
      "|Clara     |Fagundez |89947|F     |12000 |\n",
      "|Beatriz   |Muniz    |42586|F     |3000  |\n",
      "+----------+---------+-----+------+------+\n",
      "\n"
     ]
    }
   ],
   "source": [
    "if __name__ == \"__main__\":\n",
    "    run()"
   ]
  }
 ],
 "metadata": {
  "kernelspec": {
   "display_name": "Python 3 (ipykernel)",
   "language": "python",
   "name": "python3"
  },
  "language_info": {
   "codemirror_mode": {
    "name": "ipython",
    "version": 3
   },
   "file_extension": ".py",
   "mimetype": "text/x-python",
   "name": "python",
   "nbconvert_exporter": "python",
   "pygments_lexer": "ipython3",
   "version": "3.10.6"
  }
 },
 "nbformat": 4,
 "nbformat_minor": 5
}
